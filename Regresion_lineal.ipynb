{
 "cells": [
  {
   "cell_type": "markdown",
   "id": "454e8da6-d4d9-4c0a-8669-81da0f794c0e",
   "metadata": {},
   "source": [
    "**A1.2 Regresión lineal**"
   ]
  },
  {
   "cell_type": "markdown",
   "id": "b3ca998a-8581-453b-a56e-b9ec4d004260",
   "metadata": {},
   "source": [
    "**1.** Se importa la libreria pandas, posterior a esto se carga la base de datos la cual cuenta con una lista de 140 países, cada uno con su nivel de felicidad y producto interno bruto (GDP). Así mismo, se despliegan las primeras 10 filas de dichos datos."
   ]
  },
  {
   "cell_type": "code",
   "execution_count": 2,
   "id": "62bea29d-7967-4079-87a9-c59bddb80629",
   "metadata": {},
   "outputs": [
    {
     "data": {
      "text/html": [
       "<div>\n",
       "<style scoped>\n",
       "    .dataframe tbody tr th:only-of-type {\n",
       "        vertical-align: middle;\n",
       "    }\n",
       "\n",
       "    .dataframe tbody tr th {\n",
       "        vertical-align: top;\n",
       "    }\n",
       "\n",
       "    .dataframe thead th {\n",
       "        text-align: right;\n",
       "    }\n",
       "</style>\n",
       "<table border=\"1\" class=\"dataframe\">\n",
       "  <thead>\n",
       "    <tr style=\"text-align: right;\">\n",
       "      <th></th>\n",
       "      <th>Pais</th>\n",
       "      <th>Felicidad</th>\n",
       "      <th>GDP</th>\n",
       "    </tr>\n",
       "  </thead>\n",
       "  <tbody>\n",
       "    <tr>\n",
       "      <th>0</th>\n",
       "      <td>Finland</td>\n",
       "      <td>7.8210</td>\n",
       "      <td>2.718370e+11</td>\n",
       "    </tr>\n",
       "    <tr>\n",
       "      <th>1</th>\n",
       "      <td>Denmark</td>\n",
       "      <td>7.6362</td>\n",
       "      <td>3.560850e+11</td>\n",
       "    </tr>\n",
       "    <tr>\n",
       "      <th>2</th>\n",
       "      <td>Iceland</td>\n",
       "      <td>7.5575</td>\n",
       "      <td>2.171808e+10</td>\n",
       "    </tr>\n",
       "    <tr>\n",
       "      <th>3</th>\n",
       "      <td>Switzerland</td>\n",
       "      <td>7.5116</td>\n",
       "      <td>7.522480e+11</td>\n",
       "    </tr>\n",
       "    <tr>\n",
       "      <th>4</th>\n",
       "      <td>Netherlands</td>\n",
       "      <td>7.4149</td>\n",
       "      <td>9.138650e+11</td>\n",
       "    </tr>\n",
       "    <tr>\n",
       "      <th>5</th>\n",
       "      <td>Luxembourg</td>\n",
       "      <td>7.4040</td>\n",
       "      <td>7.335313e+10</td>\n",
       "    </tr>\n",
       "    <tr>\n",
       "      <th>6</th>\n",
       "      <td>Sweden</td>\n",
       "      <td>7.3843</td>\n",
       "      <td>5.414870e+11</td>\n",
       "    </tr>\n",
       "    <tr>\n",
       "      <th>7</th>\n",
       "      <td>Norway</td>\n",
       "      <td>7.3651</td>\n",
       "      <td>3.621980e+11</td>\n",
       "    </tr>\n",
       "    <tr>\n",
       "      <th>8</th>\n",
       "      <td>Israel</td>\n",
       "      <td>7.3638</td>\n",
       "      <td>4.071010e+11</td>\n",
       "    </tr>\n",
       "    <tr>\n",
       "      <th>9</th>\n",
       "      <td>New Zealand</td>\n",
       "      <td>7.1998</td>\n",
       "      <td>2.117350e+11</td>\n",
       "    </tr>\n",
       "  </tbody>\n",
       "</table>\n",
       "</div>"
      ],
      "text/plain": [
       "          Pais  Felicidad           GDP\n",
       "0      Finland     7.8210  2.718370e+11\n",
       "1      Denmark     7.6362  3.560850e+11\n",
       "2      Iceland     7.5575  2.171808e+10\n",
       "3  Switzerland     7.5116  7.522480e+11\n",
       "4  Netherlands     7.4149  9.138650e+11\n",
       "5   Luxembourg     7.4040  7.335313e+10\n",
       "6       Sweden     7.3843  5.414870e+11\n",
       "7       Norway     7.3651  3.621980e+11\n",
       "8       Israel     7.3638  4.071010e+11\n",
       "9  New Zealand     7.1998  2.117350e+11"
      ]
     },
     "execution_count": 2,
     "metadata": {},
     "output_type": "execute_result"
    }
   ],
   "source": [
    "import pandas as pd\n",
    "data=pd.read_csv('A1.2 Felicidad y GDP.csv')\n",
    "data.head(10)"
   ]
  },
  {
   "cell_type": "markdown",
   "id": "cc1eb401-2c6f-4788-be0c-837e63e30c76",
   "metadata": {},
   "source": [
    "**2.** Se ordena e imprime la columna GDP de menor a mayor."
   ]
  },
  {
   "cell_type": "code",
   "execution_count": 4,
   "id": "37d25379-3ff6-4fe0-b5b5-0024b487347d",
   "metadata": {},
   "outputs": [
    {
     "name": "stdout",
     "output_type": "stream",
     "text": [
      "               Pais  Felicidad           GDP\n",
      "15    United States     6.9768  2.089370e+13\n",
      "70            China     5.5853  1.468770e+13\n",
      "52            Japan     6.0389  5.040110e+12\n",
      "13          Germany     7.0341  3.846410e+12\n",
      "16   United Kingdom     6.9425  2.756900e+12\n",
      "130           India     3.7771  2.667690e+12\n",
      "19           France     6.6867  2.630320e+12\n",
      "29            Italy     6.4667  1.892570e+12\n",
      "14           Canada     7.0251  1.645420e+12\n",
      "57      South Korea     5.9351  1.637900e+12\n"
     ]
    }
   ],
   "source": [
    "S1=data.sort_values(by='GDP',ascending=False)\n",
    "print(S1.head(10))"
   ]
  },
  {
   "cell_type": "markdown",
   "id": "3c469ff2-4210-4ac6-a58c-5cd03478670e",
   "metadata": {},
   "source": [
    "**3.** Se repite el mismo proceso anterior sin embargo ahora se ordena la base de datos de mayor a menor GDP."
   ]
  },
  {
   "cell_type": "code",
   "execution_count": 6,
   "id": "2d9e4e7e-66d2-47b4-9b0b-4343c68e5fed",
   "metadata": {},
   "outputs": [
    {
     "name": "stdout",
     "output_type": "stream",
     "text": [
      "             Pais  Felicidad           GDP\n",
      "111       Comoros     4.6086  1.223876e+09\n",
      "89         Gambia     5.1636  1.830413e+09\n",
      "135       Lesotho     3.5118  2.250718e+09\n",
      "93        Liberia     5.1215  3.039983e+09\n",
      "119      Eswatini     4.3961  3.984841e+09\n",
      "134  Sierra Leone     3.5740  4.063289e+09\n",
      "73     Montenegro     5.5468  4.780722e+09\n",
      "129          Togo     4.1123  7.574637e+09\n",
      "30         Kosovo     6.4551  7.716925e+09\n",
      "62     Kyrgyzstan     5.8285  7.780875e+09\n"
     ]
    }
   ],
   "source": [
    "S2=data.sort_values(by='GDP',ascending=True)\n",
    "print(S2.head(10))"
   ]
  },
  {
   "cell_type": "markdown",
   "id": "eab84757-f28f-4a15-ac96-e4569a2f5a5f",
   "metadata": {},
   "source": [
    "**4.** Para realizar los cálculos y gráficos siguientes se importan las bases de datos numpy y matplotlib.pyplot. \n",
    "Para tener un mejor manejo de los datos, específicamente la variable \"x\" siendo la del GDP se expresa como el logaritmo base 10 del GDP.\n",
    "\n",
    "Por la parte de la regresión lineal, se calculan por a parte los dos coeficientes (beta 1 y beta 0) del modelo de regresión lineal simple. Una vez realizados estos cálculos en excel se imprimen ambos valores. Se genera la ecuación de la regresión lineal una vez ingresados ambos coeficientes. \n",
    "\n",
    "Con el objetivo de representar de una manera más visual estos datos y la ecuación, se utiliza un gráfico nombrando ambos ejes con el GDP y Nivel de felicidad. En dicha gráfica se agrega la línea de la ecuación que se ajusta mejor a los datos.\n",
    "\n",
    "En relación a dichos datos y ecuación se realizan diversos cálculos (todos por a parte) para analizar su comportamiento."
   ]
  },
  {
   "cell_type": "code",
   "execution_count": 8,
   "id": "618b448e-6031-4a09-80af-c873a4200f66",
   "metadata": {},
   "outputs": [
    {
     "name": "stdout",
     "output_type": "stream",
     "text": [
      "B1= 0.628128466\n",
      "B0= -1.3024\n"
     ]
    },
    {
     "data": {
      "image/png": "[encoded data removed]",
      "text/plain": [
       "<Figure size 640x480 with 1 Axes>"
      ]
     },
     "metadata": {},
     "output_type": "display_data"
    }
   ],
   "source": [
    "import numpy\n",
    "import matplotlib.pyplot as plt\n",
    "\n",
    "data['log10GDP']=numpy.log10(data['GDP'])\n",
    "x=data['log10GDP']\n",
    "B1=0.628128466\n",
    "B0=-1.3024\n",
    "print(\"B1=\",B1)\n",
    "print(\"B0=\",B0)\n",
    "y=B1*x+B0\n",
    "\n",
    "plt.scatter(data['log10GDP'],data['Felicidad'],alpha=0.75, label='Datos')\n",
    "plt.xlabel('log10 GDP')\n",
    "plt.ylabel('Nivel de felicidad')\n",
    "plt.title('GDP vs Nivel de Felicidad')\n",
    "plt.plot(x,y,alpha=0.75, label='Línea de regresión')\n",
    "plt.grid(True)\n",
    "plt.legend()\n",
    "plt.show()"
   ]
  },
  {
   "cell_type": "markdown",
   "id": "c8ba2861-03e9-45eb-8c63-dfaf55806b5c",
   "metadata": {},
   "source": [
    "**5.** El Residual Sum of Squares como su nombre lo dice es la suma de residuos cuadrados y esto es útil puesto que mide el nivel de varianza en el término de error, donde menor sea el número, mejor es el ajuste del modelo."
   ]
  },
  {
   "cell_type": "code",
   "execution_count": 10,
   "id": "489b4b69-2fc0-4a5e-a597-2ba5f57cbc89",
   "metadata": {},
   "outputs": [
    {
     "name": "stdout",
     "output_type": "stream",
     "text": [
      "RSS= 131.3738318\n"
     ]
    }
   ],
   "source": [
    "RSS=131.3738318\n",
    "print(\"RSS=\",RSS)"
   ]
  },
  {
   "cell_type": "markdown",
   "id": "717cf589-65d8-409f-907b-242585050425",
   "metadata": {},
   "source": [
    "**6.** La desviación estándar se incluye para valorar la confianza con que los coeficientes previamente calculados pueden estimar el comportamiento de los datos. Aunado y en base a esto, se establecen los intervalos de confianza de cada uno de los coeficientes."
   ]
  },
  {
   "cell_type": "code",
   "execution_count": 12,
   "id": "1f85b34e-c1c3-446d-9d3a-da1d62824b75",
   "metadata": {},
   "outputs": [
    {
     "name": "stdout",
     "output_type": "stream",
     "text": [
      "SE= 0.100194848\n",
      "CI1= (0.487782889, 0.768474043)\n",
      "CI2= (-1.011360109, -1.593340005)\n"
     ]
    }
   ],
   "source": [
    "SE=0.100194848\n",
    "print(\"SE=\",SE)\n",
    "CI1=0.487782889,0.768474043\n",
    "print(\"CI1=\",CI1)\n",
    "CI2=-1.011360109,-1.593340005\n",
    "print(\"CI2=\",CI2)"
   ]
  },
  {
   "cell_type": "markdown",
   "id": "2d2067e7-2cb4-442f-9fa7-f2dbb2149d64",
   "metadata": {},
   "source": [
    "**7.** El Residual Standard Error es una métrica útil que estima la desviación estándar del error, es decir, el tamaño del error que se encuentra al momento de realizar predicciones al utilizar el modelo. Cuando se tiene un valor pequeño esto indica que las predicciones son muy similares a los valores reales. \n",
    "\n",
    "Por último, para calcular la R^2, valor que indica el comportamiento del modelo, primero se utiliza el Total Sum of Squares(TSS) siendo la medida de variación con respecto a la media. Teniendo este valor, y en conjunto conel RSS se obtiene el valor de la R^2."
   ]
  },
  {
   "cell_type": "code",
   "execution_count": 14,
   "id": "6952e887-eaaf-4a58-ae2b-876e0380736f",
   "metadata": {},
   "outputs": [
    {
     "name": "stdout",
     "output_type": "stream",
     "text": [
      "RSE= 0.975696822\n",
      "TSS= 168.7879875\n",
      "R2= 0.221663617\n"
     ]
    }
   ],
   "source": [
    "RSE=0.975696822\n",
    "print(\"RSE=\",RSE)\n",
    "TSS=168.7879875\n",
    "print(\"TSS=\",TSS)\n",
    "R2=0.221663617\n",
    "print(\"R2=\",R2)"
   ]
  },
  {
   "cell_type": "markdown",
   "id": "89496688-51f1-48b9-b37d-9b95445ea13f",
   "metadata": {},
   "source": [
    "**8.** Finalmente, ya que los cálculos anterores se han realizado a mano por a parte, para verificar que todos estos sean correctos, se hace uso de la funcion OLS(). Para esto es necesario importar statsmodels.api. Se agrega el resumen de los datos, sin embargo para obtener un valor p con más cifras significativas se se utiliza la función pvalues. Así mismo como el resumen no muestra el RSE se utiliza scale**.5 para verificar dicho valor. "
   ]
  },
  {
   "cell_type": "code",
   "execution_count": 16,
   "id": "11c2271b-fe72-44f1-9dd5-d9798156a57a",
   "metadata": {},
   "outputs": [
    {
     "name": "stdout",
     "output_type": "stream",
     "text": [
      "                            OLS Regression Results                            \n",
      "==============================================================================\n",
      "Dep. Variable:              Felicidad   R-squared:                       0.222\n",
      "Model:                            OLS   Adj. R-squared:                  0.216\n",
      "Method:                 Least Squares   F-statistic:                     39.59\n",
      "Date:                Sun, 26 Jan 2025   Prob (F-statistic):           3.83e-09\n",
      "Time:                        17:41:05   Log-Likelihood:                -195.09\n",
      "No. Observations:                 141   AIC:                             394.2\n",
      "Df Residuals:                     139   BIC:                             400.1\n",
      "Df Model:                           1                                         \n",
      "Covariance Type:            nonrobust                                         \n",
      "==============================================================================\n",
      "                 coef    std err          t      P>|t|      [0.025      0.975]\n",
      "------------------------------------------------------------------------------\n",
      "const         -1.3024      1.094     -1.191      0.236      -3.465       0.860\n",
      "log10GDP       0.6281      0.100      6.292      0.000       0.431       0.826\n",
      "==============================================================================\n",
      "Omnibus:                        2.648   Durbin-Watson:                   0.455\n",
      "Prob(Omnibus):                  0.266   Jarque-Bera (JB):                2.523\n",
      "Skew:                          -0.326   Prob(JB):                        0.283\n",
      "Kurtosis:                       2.944   Cond. No.                         148.\n",
      "==============================================================================\n",
      "\n",
      "Notes:\n",
      "[1] Standard Errors assume that the covariance matrix of the errors is correctly specified.\n",
      "P-values: const       2.357975e-01\n",
      "log10GDP    3.825718e-09\n",
      "dtype: float64\n",
      "RSE: 0.9721807858537376\n"
     ]
    }
   ],
   "source": [
    "import statsmodels.api as sm\n",
    "b=sm.add_constant(data['log10GDP'])\n",
    "result=sm.OLS(data['Felicidad'],b).fit()\n",
    "print(result.summary())\n",
    "print(\"P-values:\",result.pvalues)\n",
    "print(\"RSE:\",result.scale**.5)"
   ]
  },
  {
   "cell_type": "markdown",
   "id": "fe828964-2dbd-4081-b42c-2d83af7be4f7",
   "metadata": {},
   "source": [
    "**Referencias**\n",
    " - Helliwell, J. F., Layard, R., Sachs, J. D., De Neve, J.-E., Aknin, L. B., & Wang, S. (Eds.). (2022). World Happiness Report 2022. New York: Sustainable Development Solutions Network.\n",
    " - The World Bank. (s. f.). World Bank Open Data. Recuperado 26 de enero de 2025, de https://data.worldbank.org/indicator/NY.GDP.MKTP.CD. "
   ]
  },
  {
   "cell_type": "markdown",
   "id": "44ce9ef8-3a79-4771-9b21-12a032d3f3a7",
   "metadata": {},
   "source": [
    "**Codigo de honor**\n",
    "Declaro que he realizado esta actividad con integridad académica"
   ]
  }
 ],
 "metadata": {
  "kernelspec": {
   "display_name": "Python [conda env:base] *",
   "language": "python",
   "name": "conda-base-py"
  },
  "language_info": {
   "codemirror_mode": {
    "name": "ipython",
    "version": 3
   },
   "file_extension": ".py",
   "mimetype": "text/x-python",
   "name": "python",
   "nbconvert_exporter": "python",
   "pygments_lexer": "ipython3",
   "version": "3.12.7"
  }
 },
 "nbformat": 4,
 "nbformat_minor": 5
}
